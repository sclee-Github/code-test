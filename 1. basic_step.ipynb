{
 "cells": [
  {
   "cell_type": "code",
   "execution_count": null,
   "metadata": {},
   "outputs": [],
   "source": [
    "# Baekjoon (Step1, #2588 곱셈)\n",
    "\n",
    "a = int(input())\n",
    "b = int(input())\n",
    "\n",
    "num1 = a * ((b % 100) % 10)\n",
    "print(num1)\n",
    "\n",
    "num2 = a * ((b % 100) // 10)\n",
    "print(num2)\n",
    "\n",
    "num3 = a * (b // 100)\n",
    "print(num3)\n",
    "\n",
    "print(num1 + (num2 * 10) + (num3 * 100))"
   ]
  },
  {
   "cell_type": "code",
   "execution_count": null,
   "metadata": {},
   "outputs": [],
   "source": [
    "# Baekjoon (Step1, #11382 꼬마 정민)\n",
    "a, b, c = map(int, input().split())\n",
    "\n",
    "print(a+b+c)"
   ]
  },
  {
   "cell_type": "code",
   "execution_count": null,
   "metadata": {},
   "outputs": [],
   "source": [
    "# Baekjoon (Step1, #10171 고양이)\n",
    "print('\\\\    /\\\\')\n",
    "print(' )  ( \\')')\n",
    "print('(  /  )')\n",
    "print(' \\\\(__)|')"
   ]
  },
  {
   "cell_type": "code",
   "execution_count": null,
   "metadata": {},
   "outputs": [],
   "source": [
    "# Baekjoon (Step1, #10172 개)\n",
    "print('|\\\\_/|')\n",
    "print('|q p|   /}')\n",
    "print('( 0 )\\\"\\\"\\\"\\\\')\n",
    "print('|\\\"^\\\"`    |')\n",
    "print('||_/=\\\\\\\\__|')"
   ]
  },
  {
   "cell_type": "code",
   "execution_count": null,
   "metadata": {},
   "outputs": [],
   "source": [
    "# Baekjoon (Step2, #1330 두 수 비교하기)\n",
    "a, b = map(int, input().split())\n",
    "\n",
    "if(a < b):\n",
    "    print('<')\n",
    "elif(a > b):\n",
    "    print('>')\n",
    "else:\n",
    "    print('==')"
   ]
  },
  {
   "cell_type": "code",
   "execution_count": null,
   "metadata": {},
   "outputs": [],
   "source": [
    "# Baekjoon (Step2, #9498 시험 성적)\n",
    "a = int(input())\n",
    "\n",
    "if(a >= 90):\n",
    "    print('A')\n",
    "elif(a >= 80):\n",
    "    print('B')\n",
    "elif(a >= 70):\n",
    "    print('C')\n",
    "elif(a >= 60):\n",
    "    print('D')\n",
    "else:\n",
    "    print('F')"
   ]
  },
  {
   "cell_type": "code",
   "execution_count": null,
   "metadata": {},
   "outputs": [],
   "source": [
    "# Baekjoon (Step2, #2753 윤년)\n",
    "a = int(input())\n",
    "\n",
    "if(a % 4 == 0 and (a % 100 != 0 or a % 400 == 0)):\n",
    "    print('1')\n",
    "else:\n",
    "    print('0')"
   ]
  },
  {
   "cell_type": "code",
   "execution_count": null,
   "metadata": {},
   "outputs": [],
   "source": [
    "# Baekjoon (Step2, #14681 사분면 고르기)\n",
    "x = int(input())\n",
    "y = int(input())\n",
    "\n",
    "if(x > 0 and y > 0):\n",
    "    print(1)\n",
    "elif(x < 0 and y > 0):\n",
    "    print(2)\n",
    "elif(x < 0 and y < 0):\n",
    "    print(3)\n",
    "else:\n",
    "    print(4)  "
   ]
  },
  {
   "cell_type": "code",
   "execution_count": null,
   "metadata": {},
   "outputs": [],
   "source": [
    "# Baekjoon (Step2, #2884 알람 시계)\n",
    "H, M = map(int, input().split())\n",
    "\n",
    "if(M < 45):\n",
    "    if(H == 0):\n",
    "        H = 23\n",
    "        M += 60  \n",
    "    else:   \n",
    "        H -= 1\n",
    "        M += 60   \n",
    "\n",
    "print(H, M-45)"
   ]
  },
  {
   "cell_type": "code",
   "execution_count": null,
   "metadata": {},
   "outputs": [],
   "source": [
    "# Baekjoon (Step2, #2525 오븐 시계)\n",
    "A, B = map(int, input().split())\n",
    "C = int(input())\n",
    "\n",
    "A += C // 60\n",
    "B += C % 60\n",
    "\n",
    "if (B >= 60):\n",
    "    A += 1\n",
    "    B -= 60\n",
    "\n",
    "if (A >= 24):\n",
    "    A -= 24\n",
    "    \n",
    "print(A, B)"
   ]
  },
  {
   "cell_type": "code",
   "execution_count": null,
   "metadata": {},
   "outputs": [],
   "source": [
    "# Baekjoon (Step2, #2480 주사위 세개)\n",
    "a, b, c = map(int, input().split())\n",
    "\n",
    "if(a == b and b == c):\n",
    "    print(10000 + (a * 1000))\n",
    "elif(a == b or a == c):\n",
    "    print(1000 + (a * 100))\n",
    "elif(b == c):\n",
    "    print(1000 + (b * 100))\n",
    "else:\n",
    "    print(max(a, b, c) * 100)"
   ]
  },
  {
   "cell_type": "code",
   "execution_count": null,
   "metadata": {},
   "outputs": [],
   "source": [
    "# Baekjoon (Step3, #2739 구구단)\n",
    "num = int(input())\n",
    "\n",
    "for i in range(1, 10):\n",
    "    print(num, '*', i, '=', num*i)"
   ]
  },
  {
   "cell_type": "code",
   "execution_count": null,
   "metadata": {},
   "outputs": [],
   "source": [
    "# Baekjoon (Step3, #10950 A+B - 3)\n",
    "n = int(input())\n",
    "\n",
    "for i in range(n):\n",
    "    a, b = map(int, input().split())\n",
    "    print(a + b)"
   ]
  },
  {
   "cell_type": "code",
   "execution_count": null,
   "metadata": {},
   "outputs": [],
   "source": [
    "# Baekjoon (Step3, #8393 합)\n",
    "n = int(input())\n",
    "print(sum(range(1, n+1)))\n",
    "\n",
    "# res = 0\n",
    "\n",
    "# for i in range(1, n+1):\n",
    "#     res += i\n",
    "# print(res)"
   ]
  },
  {
   "cell_type": "code",
   "execution_count": null,
   "metadata": {},
   "outputs": [],
   "source": [
    "# Baekjoon (Step3, #25304 영수증)\n",
    "x = int(input())\n",
    "n = int(input())\n",
    "\n",
    "for i in range(n):\n",
    "    a, b = map(int, input().split())\n",
    "    x -= a * b\n",
    "\n",
    "if x == 0:\n",
    "    print(\"Yes\")    \n",
    "else:\n",
    "    print(\"No\")   "
   ]
  },
  {
   "cell_type": "code",
   "execution_count": null,
   "metadata": {},
   "outputs": [],
   "source": [
    "# Baekjoon (Step3, #25314 코딩은 체육과목 입니다)\n",
    "num = int(input())\n",
    "\n",
    "for i in range(num // 4):\n",
    "    print('long', end=\" \")\n",
    "\n",
    "print('int')"
   ]
  },
  {
   "cell_type": "code",
   "execution_count": null,
   "metadata": {},
   "outputs": [],
   "source": [
    "# Baekjoon (Step3, #15552 빠른 A+B)\n",
    "import sys\n",
    "\n",
    "n = int(input())\n",
    "\n",
    "for _ in range(n):\n",
    "    a, b = map(int, sys.stdin.readline().split())\n",
    "    # a, b = map(int, input().split())\n",
    "    print(a+b)"
   ]
  },
  {
   "cell_type": "code",
   "execution_count": null,
   "metadata": {},
   "outputs": [],
   "source": [
    "# Baekjoon (Step3, #11021 A+B - 7)\n",
    "n = int(input())\n",
    "\n",
    "for i in range(1, n+1):\n",
    "    a, b = map(int, input().split())\n",
    "    print('Case #' + str(i) + ':', a+b)"
   ]
  },
  {
   "cell_type": "code",
   "execution_count": null,
   "metadata": {},
   "outputs": [],
   "source": [
    "# Baekjoon (Step3, #11022 A+B - 8)\n",
    "n = int(input())\n",
    "\n",
    "for i in range(1, n+1):\n",
    "    a, b = map(int, input().split())\n",
    "    print('Case #' + str(i) + ':', a, '+', b, '=', a+b)"
   ]
  },
  {
   "cell_type": "code",
   "execution_count": null,
   "metadata": {},
   "outputs": [],
   "source": [
    "# Baekjoon (Step3, #2438 별 찍기 -1)\n",
    "n = int(input())\n",
    "\n",
    "for i in range(1, n+1):\n",
    "    print(\"*\" * i)"
   ]
  },
  {
   "cell_type": "code",
   "execution_count": null,
   "metadata": {},
   "outputs": [],
   "source": [
    "# Baekjoon (Step3, #2439 별 찍기 -2)\n",
    "n = int(input())\n",
    "\n",
    "for i in range(1, n+1):\n",
    "    print(' ' * (n-i) + '*' * i)"
   ]
  },
  {
   "cell_type": "code",
   "execution_count": null,
   "metadata": {},
   "outputs": [],
   "source": [
    "# Baekjoon (Step3, #10952 A+B - 5)\n",
    "while(True):\n",
    "    a, b = map(int, input().split())\n",
    "    if(a == 0 and b == 0):\n",
    "        break\n",
    "    print(a+b)\n",
    "    "
   ]
  },
  {
   "cell_type": "code",
   "execution_count": null,
   "metadata": {},
   "outputs": [],
   "source": [
    "# Baekjoon (Step3, #10951 A+B - 4)\n",
    "while(True):\n",
    "    try:\n",
    "        a, b = map(int, input().split())\n",
    "        print(a+b)\n",
    "    except:\n",
    "        break"
   ]
  },
  {
   "cell_type": "code",
   "execution_count": null,
   "metadata": {},
   "outputs": [],
   "source": [
    "# Baekjoon (Step4, #10807 개수 세기)\n",
    "n = int(input())\n",
    "num_list = list(map(int, input().split()))\n",
    "v = int(input())\n",
    "\n",
    "print(num_list.count(v))"
   ]
  },
  {
   "cell_type": "code",
   "execution_count": null,
   "metadata": {},
   "outputs": [],
   "source": [
    "# Baekjoon (Step4, #10871 X보다 작은 수)\n",
    "n, x = map(int, input().split())\n",
    "num_list = list(map(int, input().split()))\n",
    "\n",
    "for i in range(n):\n",
    "    if num_list[i] < x:\n",
    "        print(num_list[i], end=\" \")"
   ]
  },
  {
   "cell_type": "code",
   "execution_count": null,
   "metadata": {},
   "outputs": [],
   "source": [
    "# Baekjoon (Step4, #10818 최소, 최대)\n",
    "n = int(input())\n",
    "num_list = list(map(int, input().split()))\n",
    "\n",
    "print(min(num_list), max(num_list))\n"
   ]
  },
  {
   "cell_type": "code",
   "execution_count": null,
   "metadata": {},
   "outputs": [],
   "source": [
    "# Baekjoon (Step4, #2562 최댓값)\n",
    "# num_list = []\n",
    "\n",
    "# for i in range(9):\n",
    "#     num_list.append(int(input()))\n",
    "    \n",
    "num_list = [int(input()) for _ in range(9)]\n",
    "\n",
    "print(max(num_list))\n",
    "print(num_list.index(max(num_list))+1)"
   ]
  },
  {
   "cell_type": "code",
   "execution_count": null,
   "metadata": {},
   "outputs": [],
   "source": [
    "# Baekjoon (Step4, #10810 공 넣기)\n",
    "n, m = map(int, input().split())\n",
    "\n",
    "num_list = [0] * n\n",
    "\n",
    "for _ in range(m):\n",
    "    i, j, k = map(int, input().split())\n",
    "    \n",
    "    for index in range(i, j+1):\n",
    "        num_list[index-1] = k\n",
    "\n",
    "for item in num_list:\n",
    "    print(item, end=\" \")"
   ]
  },
  {
   "cell_type": "code",
   "execution_count": null,
   "metadata": {},
   "outputs": [],
   "source": [
    "# Baekjoon (Step4, #10813 공 바꾸기)\n",
    "n, m = map(int, input().split())\n",
    "\n",
    "num_list = [i+1 for i in range(n)]\n",
    "\n",
    "for _ in range(m):\n",
    "    i, j = map(int, input().split())\n",
    "    temp = num_list[i-1]\n",
    "    num_list[i-1] = num_list[j-1]\n",
    "    num_list[j-1] = temp\n",
    "    \n",
    "for item in num_list:\n",
    "    print(item, end=\" \")"
   ]
  },
  {
   "cell_type": "code",
   "execution_count": null,
   "metadata": {},
   "outputs": [],
   "source": [
    "# Baekjoon (Step4, #5597 과제 안 내신 분..?)\n",
    "std_list = [i for i in range(1, 31)]\n",
    "\n",
    "for _ in range(28):\n",
    "    std_list.remove(int(input()))\n",
    "\n",
    "print(min(std_list))\n",
    "print(max(std_list)) "
   ]
  },
  {
   "cell_type": "code",
   "execution_count": null,
   "metadata": {},
   "outputs": [],
   "source": [
    "# Baekjoon (Step4, #3052 나머지)\n",
    "div_list = []\n",
    "\n",
    "for _ in range(10):\n",
    "    n = int(input())\n",
    "    \n",
    "    if n%42 not in div_list:\n",
    "        div_list.append(n%42)\n",
    "\n",
    "print(len(div_list))"
   ]
  },
  {
   "cell_type": "code",
   "execution_count": null,
   "metadata": {},
   "outputs": [],
   "source": [
    "# Baekjoon (Step4, #10811 바구니 뒤집기)\n",
    "n, m = map(int, input().split())\n",
    "\n",
    "num_list = [i for i in range(1, n+1)]\n",
    "\n",
    "for _ in range(m):\n",
    "    i, j = map(int, input().split())\n",
    "    reversed_num_list = num_list[i-1:j]\n",
    "    reversed_num_list.reverse()\n",
    "    \n",
    "    num_list[i-1:j] = reversed_num_list\n",
    "\n",
    "for item in num_list:\n",
    "    print(item, end=\" \")"
   ]
  },
  {
   "cell_type": "code",
   "execution_count": null,
   "metadata": {},
   "outputs": [],
   "source": [
    "# Baekjoon (Step4, #1546 평균)\n",
    "n = int(input())\n",
    "\n",
    "score_list = list(map(int, input().split()))\n",
    "max_score = max(score_list)\n",
    "new_score_list = []\n",
    "\n",
    "for item in score_list:\n",
    "    new_score_list.append(item/max_score*100)\n",
    "\n",
    "print(sum(new_score_list)/n)"
   ]
  },
  {
   "cell_type": "code",
   "execution_count": null,
   "metadata": {},
   "outputs": [],
   "source": [
    "# Baekjoon (Step5, #27866 문자와 문자열)\n",
    "S = input()\n",
    "i = int(input())\n",
    "\n",
    "print(S[i-1])"
   ]
  },
  {
   "cell_type": "code",
   "execution_count": null,
   "metadata": {},
   "outputs": [],
   "source": [
    "# Baekjoon (Step5, #2743 단어 길이 재기)\n",
    "S = input()\n",
    "print(len(S))"
   ]
  },
  {
   "cell_type": "code",
   "execution_count": null,
   "metadata": {},
   "outputs": [],
   "source": [
    "# Baekjoon (Step5, #9086 문자열)\n",
    "n = int(input())\n",
    "\n",
    "for _ in range(n):\n",
    "    S = input()\n",
    "    print(S[0] + S[-1])"
   ]
  },
  {
   "cell_type": "code",
   "execution_count": null,
   "metadata": {},
   "outputs": [],
   "source": [
    "# Baekjoon (Step5, #11654 아스키 코드)\n",
    "S = input()\n",
    "print(ord(S))\n"
   ]
  },
  {
   "cell_type": "code",
   "execution_count": null,
   "metadata": {},
   "outputs": [],
   "source": [
    "# Baekjoon (Step5, #11720 숫자의 합)\n",
    "n = input()\n",
    "num_list = list(map(int, input()))\n",
    "print(sum(num_list))"
   ]
  },
  {
   "cell_type": "code",
   "execution_count": null,
   "metadata": {},
   "outputs": [],
   "source": [
    "# Baekjoon (Step5, #10809 알파벳 찾기)\n",
    "S = input()\n",
    "str_list = [-1] * 26\n",
    "\n",
    "for s in S:\n",
    "    str_list[ord(s)-97] = S.index(s)\n",
    "\n",
    "for item in str_list:\n",
    "    print(item, end=\" \")"
   ]
  },
  {
   "cell_type": "code",
   "execution_count": null,
   "metadata": {},
   "outputs": [],
   "source": [
    "# Baekjoon (Step5, #2675 문자열 반복)\n",
    "n = int(input())\n",
    "\n",
    "for _ in range(n):\n",
    "    T, R = input().split()\n",
    "    \n",
    "    for s in R:\n",
    "        print(s * int(T), end='')\n",
    "    print()\n"
   ]
  },
  {
   "cell_type": "code",
   "execution_count": null,
   "metadata": {},
   "outputs": [],
   "source": [
    "# Baekjoon (Step5, #1152 단어의 개수)\n",
    "str_list = input().split()\n",
    "print(len(str_list))"
   ]
  },
  {
   "cell_type": "code",
   "execution_count": null,
   "metadata": {},
   "outputs": [],
   "source": [
    "# Baekjoon (Step5, #2908 상수)\n",
    "a, b = input().split()\n",
    "a = int(a[::-1])\n",
    "b = int(b[::-1])\n",
    "\n",
    "if a > b:\n",
    "    print(a)\n",
    "else:\n",
    "    print(b)"
   ]
  },
  {
   "cell_type": "code",
   "execution_count": null,
   "metadata": {},
   "outputs": [],
   "source": [
    "# Baekjoon (Step5, #5622 다이얼)\n",
    "str = input()\n",
    "min_time = 0\n",
    "\n",
    "for i in range(len(str)):\n",
    "    \n",
    "    if str[i] in \"ABC\":\n",
    "        min_time += 3\n",
    "    elif str[i] in \"DEF\":\n",
    "        min_time += 4\n",
    "    elif str[i] in \"GHI\":\n",
    "        min_time += 5\n",
    "    elif str[i] in \"JKL\":\n",
    "        min_time += 6\n",
    "    elif str[i] in \"MNO\":\n",
    "        min_time += 7\n",
    "    elif str[i] in \"PQRS\":\n",
    "        min_time += 8\n",
    "    elif str[i] in \"TUV\":\n",
    "        min_time += 9\n",
    "    elif str[i] in \"WXYZ\":\n",
    "        min_time += 10        \n",
    "    elif str[i] in \"\":\n",
    "        min_time += 2\n",
    "    else:\n",
    "        min_time += 11\n",
    "\n",
    "print(min_time)"
   ]
  },
  {
   "cell_type": "code",
   "execution_count": null,
   "metadata": {},
   "outputs": [],
   "source": [
    "# Baekjoon (Step5, #11718 그대로 출력하기)\n",
    "while(True):\n",
    "    try:        \n",
    "        print(input())\n",
    "    except EOFError:\n",
    "        break  "
   ]
  }
 ],
 "metadata": {
  "kernelspec": {
   "display_name": "base",
   "language": "python",
   "name": "python3"
  },
  "language_info": {
   "codemirror_mode": {
    "name": "ipython",
    "version": 3
   },
   "file_extension": ".py",
   "mimetype": "text/x-python",
   "name": "python",
   "nbconvert_exporter": "python",
   "pygments_lexer": "ipython3",
   "version": "3.11.7"
  }
 },
 "nbformat": 4,
 "nbformat_minor": 2
}
