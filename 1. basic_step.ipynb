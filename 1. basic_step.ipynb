{
 "cells": [
  {
   "cell_type": "code",
   "execution_count": null,
   "metadata": {},
   "outputs": [],
   "source": [
    "# Baekjoon (Step1, #2588 곱셈)\n",
    "\n",
    "a = int(input())\n",
    "b = int(input())\n",
    "\n",
    "num1 = a * ((b % 100) % 10)\n",
    "print(num1)\n",
    "\n",
    "num2 = a * ((b % 100) // 10)\n",
    "print(num2)\n",
    "\n",
    "num3 = a * (b // 100)\n",
    "print(num3)\n",
    "\n",
    "print(num1 + (num2 * 10) + (num3 * 100))"
   ]
  },
  {
   "cell_type": "code",
   "execution_count": null,
   "metadata": {},
   "outputs": [],
   "source": [
    "# Baekjoon (Step1, #11382 꼬마 정민)\n",
    "a, b, c = map(int, input().split())\n",
    "\n",
    "print(a+b+c)"
   ]
  },
  {
   "cell_type": "code",
   "execution_count": null,
   "metadata": {},
   "outputs": [],
   "source": [
    "# Baekjoon (Step1, #10171 고양이)\n",
    "print('\\\\    /\\\\')\n",
    "print(' )  ( \\')')\n",
    "print('(  /  )')\n",
    "print(' \\\\(__)|')"
   ]
  },
  {
   "cell_type": "code",
   "execution_count": null,
   "metadata": {},
   "outputs": [],
   "source": [
    "# Baekjoon (Step1, #10172 개)\n",
    "print('|\\\\_/|')\n",
    "print('|q p|   /}')\n",
    "print('( 0 )\\\"\\\"\\\"\\\\')\n",
    "print('|\\\"^\\\"`    |')\n",
    "print('||_/=\\\\\\\\__|')"
   ]
  },
  {
   "cell_type": "code",
   "execution_count": null,
   "metadata": {},
   "outputs": [],
   "source": [
    "# Baekjoon (Step2, #1330 두 수 비교하기)\n",
    "a, b = map(int, input().split())\n",
    "\n",
    "if(a < b):\n",
    "    print('<')\n",
    "elif(a > b):\n",
    "    print('>')\n",
    "else:\n",
    "    print('==')"
   ]
  },
  {
   "cell_type": "code",
   "execution_count": null,
   "metadata": {},
   "outputs": [],
   "source": [
    "# Baekjoon (Step2, #9498 시험 성적)\n",
    "a = int(input())\n",
    "\n",
    "if(a >= 90):\n",
    "    print('A')\n",
    "elif(a >= 80):\n",
    "    print('B')\n",
    "elif(a >= 70):\n",
    "    print('C')\n",
    "elif(a >= 60):\n",
    "    print('D')\n",
    "else:\n",
    "    print('F')"
   ]
  },
  {
   "cell_type": "code",
   "execution_count": null,
   "metadata": {},
   "outputs": [],
   "source": [
    "# Baekjoon (Step2, #2753 윤년)\n",
    "a = int(input())\n",
    "\n",
    "if(a % 4 == 0 and (a % 100 != 0 or a % 400 == 0)):\n",
    "    print('1')\n",
    "else:\n",
    "    print('0')"
   ]
  },
  {
   "cell_type": "code",
   "execution_count": null,
   "metadata": {},
   "outputs": [],
   "source": [
    "# Baekjoon (Step2, #14681 사분면 고르기)\n",
    "x = int(input())\n",
    "y = int(input())\n",
    "\n",
    "if(x > 0 and y > 0):\n",
    "    print(1)\n",
    "elif(x < 0 and y > 0):\n",
    "    print(2)\n",
    "elif(x < 0 and y < 0):\n",
    "    print(3)\n",
    "else:\n",
    "    print(4)  "
   ]
  },
  {
   "cell_type": "code",
   "execution_count": null,
   "metadata": {},
   "outputs": [],
   "source": [
    "# Baekjoon (Step2, #2884 알람 시계)\n",
    "H, M = map(int, input().split())\n",
    "\n",
    "if(M < 45):\n",
    "    if(H == 0):\n",
    "        H = 23\n",
    "        M += 60  \n",
    "    else:   \n",
    "        H -= 1\n",
    "        M += 60   \n",
    "\n",
    "print(H, M-45)"
   ]
  },
  {
   "cell_type": "code",
   "execution_count": null,
   "metadata": {},
   "outputs": [],
   "source": [
    "# Baekjoon (Step2, #2525 오븐 시계)\n",
    "A, B = map(int, input().split())\n",
    "C = int(input())\n",
    "\n",
    "A += C // 60\n",
    "B += C % 60\n",
    "\n",
    "if (B >= 60):\n",
    "    A += 1\n",
    "    B -= 60\n",
    "\n",
    "if (A >= 24):\n",
    "    A -= 24\n",
    "    \n",
    "print(A, B)"
   ]
  },
  {
   "cell_type": "code",
   "execution_count": null,
   "metadata": {},
   "outputs": [],
   "source": [
    "# Baekjoon (Step2, #2480 주사위 세개)\n",
    "a, b, c = map(int, input().split())\n",
    "\n",
    "if(a == b and b == c):\n",
    "    print(10000 + (a * 1000))\n",
    "elif(a == b or a == c):\n",
    "    print(1000 + (a * 100))\n",
    "elif(b == c):\n",
    "    print(1000 + (b * 100))\n",
    "else:\n",
    "    print(max(a, b, c) * 100)"
   ]
  },
  {
   "cell_type": "code",
   "execution_count": null,
   "metadata": {},
   "outputs": [],
   "source": [
    "# Baekjoon (Step3, #2739 구구단)\n",
    "num = int(input())\n",
    "\n",
    "for i in range(1, 10):\n",
    "    print(num, '*', i, '=', num*i)"
   ]
  },
  {
   "cell_type": "code",
   "execution_count": null,
   "metadata": {},
   "outputs": [],
   "source": [
    "# Baekjoon (Step3, #10950 A+B - 3)\n",
    "n = int(input())\n",
    "\n",
    "for i in range(n):\n",
    "    a, b = map(int, input().split())\n",
    "    print(a + b)"
   ]
  },
  {
   "cell_type": "code",
   "execution_count": null,
   "metadata": {},
   "outputs": [],
   "source": [
    "# Baekjoon (Step3, #8393 합)\n",
    "n = int(input())\n",
    "print(sum(range(1, n+1)))\n",
    "\n",
    "# res = 0\n",
    "\n",
    "# for i in range(1, n+1):\n",
    "#     res += i\n",
    "# print(res)"
   ]
  },
  {
   "cell_type": "code",
   "execution_count": null,
   "metadata": {},
   "outputs": [],
   "source": [
    "# Baekjoon (Step3, #25304 영수증)\n",
    "x = int(input())\n",
    "n = int(input())\n",
    "\n",
    "for i in range(n):\n",
    "    a, b = map(int, input().split())\n",
    "    x -= a * b\n",
    "\n",
    "if x == 0:\n",
    "    print(\"Yes\")    \n",
    "else:\n",
    "    print(\"No\")   "
   ]
  },
  {
   "cell_type": "code",
   "execution_count": null,
   "metadata": {},
   "outputs": [],
   "source": [
    "# Baekjoon (Step3, #25314 코딩은 체육과목 입니다)\n",
    "num = int(input())\n",
    "\n",
    "for i in range(num // 4):\n",
    "    print('long', end=\" \")\n",
    "\n",
    "print('int')"
   ]
  },
  {
   "cell_type": "code",
   "execution_count": null,
   "metadata": {},
   "outputs": [],
   "source": [
    "# Baekjoon (Step3, #15552 빠른 A+B)\n",
    "import sys\n",
    "\n",
    "n = int(input())\n",
    "\n",
    "for _ in range(n):\n",
    "    a, b = map(int, sys.stdin.readline().split())\n",
    "    # a, b = map(int, input().split())\n",
    "    print(a+b)"
   ]
  },
  {
   "cell_type": "code",
   "execution_count": null,
   "metadata": {},
   "outputs": [],
   "source": [
    "# Baekjoon (Step3, #11021 A+B - 7)\n",
    "n = int(input())\n",
    "\n",
    "for i in range(1, n+1):\n",
    "    a, b = map(int, input().split())\n",
    "    print('Case #' + str(i) + ':', a+b)"
   ]
  },
  {
   "cell_type": "code",
   "execution_count": null,
   "metadata": {},
   "outputs": [],
   "source": [
    "# Baekjoon (Step3, #11022 A+B - 8)\n",
    "n = int(input())\n",
    "\n",
    "for i in range(1, n+1):\n",
    "    a, b = map(int, input().split())\n",
    "    print('Case #' + str(i) + ':', a, '+', b, '=', a+b)"
   ]
  },
  {
   "cell_type": "code",
   "execution_count": null,
   "metadata": {},
   "outputs": [],
   "source": [
    "# Baekjoon (Step3, #2438 별 찍기 -1)\n",
    "n = int(input())\n",
    "\n",
    "for i in range(1, n+1):\n",
    "    print(\"*\" * i)"
   ]
  },
  {
   "cell_type": "code",
   "execution_count": null,
   "metadata": {},
   "outputs": [],
   "source": [
    "# Baekjoon (Step3, #2439 별 찍기 -2)\n",
    "n = int(input())\n",
    "\n",
    "for i in range(1, n+1):\n",
    "    print(' ' * (n-i) + '*' * i)"
   ]
  },
  {
   "cell_type": "code",
   "execution_count": null,
   "metadata": {},
   "outputs": [],
   "source": [
    "# Baekjoon (Step3, #10952 A+B - 5)\n",
    "while(True):\n",
    "    a, b = map(int, input().split())\n",
    "    if(a == 0 and b == 0):\n",
    "        break\n",
    "    print(a+b)\n",
    "    "
   ]
  },
  {
   "cell_type": "code",
   "execution_count": null,
   "metadata": {},
   "outputs": [],
   "source": [
    "# Baekjoon (Step3, #10951 A+B - 4)\n",
    "while(True):\n",
    "    try:\n",
    "        a, b = map(int, input().split())\n",
    "        print(a+b)\n",
    "    except:\n",
    "        break"
   ]
  },
  {
   "cell_type": "code",
   "execution_count": null,
   "metadata": {},
   "outputs": [],
   "source": []
  }
 ],
 "metadata": {
  "kernelspec": {
   "display_name": "base",
   "language": "python",
   "name": "python3"
  },
  "language_info": {
   "codemirror_mode": {
    "name": "ipython",
    "version": 3
   },
   "file_extension": ".py",
   "mimetype": "text/x-python",
   "name": "python",
   "nbconvert_exporter": "python",
   "pygments_lexer": "ipython3",
   "version": "3.11.7"
  }
 },
 "nbformat": 4,
 "nbformat_minor": 2
}
