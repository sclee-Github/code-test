{
 "cells": [
  {
   "cell_type": "code",
   "execution_count": null,
   "metadata": {},
   "outputs": [],
   "source": [
    "import time\n",
    "\n",
    "start_time = time.time()\n",
    "end_time = time.time()\n",
    "print(\"time\", end_time - start_time)"
   ]
  },
  {
   "cell_type": "code",
   "execution_count": null,
   "metadata": {},
   "outputs": [],
   "source": [
    "# list compresention\n",
    "\n",
    "array = [i for i in range(20) if i %2 == 1]\n",
    "print(array)\n",
    "\n",
    "array = [i * i for i in range(1, 6)]\n",
    "print(array)\n",
    "\n",
    "n = 3\n",
    "m = 5\n",
    "\n",
    "array = [[0] * m for _ in range(n)]\n",
    "print(array)"
   ]
  },
  {
   "cell_type": "code",
   "execution_count": null,
   "metadata": {},
   "outputs": [],
   "source": [
    "import sys\n",
    "\n",
    "n = sys.stdin.readline().rstrip()\n",
    "print(n)"
   ]
  },
  {
   "cell_type": "code",
   "execution_count": null,
   "metadata": {},
   "outputs": [],
   "source": [
    "result = sorted([10, 30, 50, 20, 40])\n",
    "result_reverse = sorted([10, 30, 50, 20, 40], reverse=True)\n",
    "\n",
    "print(result)\n",
    "print(result_reverse)\n",
    "\n",
    "array = [('홍길동', 40), ('이순신', 10), ('아무개', 93)]\n",
    "result_array = sorted(array, key=lambda x: x[1])\n",
    "result_array_reverse = sorted(array, key=lambda x: x[1], reverse=True)\n",
    "\n",
    "print(result_array)\n",
    "print(result_array_reverse)"
   ]
  },
  {
   "cell_type": "code",
   "execution_count": null,
   "metadata": {},
   "outputs": [],
   "source": [
    "from itertools import permutations\n",
    "from itertools import combinations\n",
    "from itertools import product\n",
    "from itertools import combinations_with_replacement\n",
    "\n",
    "data = ['A', 'B', 'C']\n",
    "\n",
    "result = list(permutations(data, 3))\n",
    "print(result)\n",
    "\n",
    "result = list(combinations(data, 2))\n",
    "print(result)\n",
    "\n",
    "result = list(product(data, repeat=2))\n",
    "print(result)\n",
    "\n",
    "result = list(combinations_with_replacement(data, 2))\n",
    "print(result)"
   ]
  },
  {
   "cell_type": "code",
   "execution_count": null,
   "metadata": {},
   "outputs": [],
   "source": [
    "from collections import Counter\n",
    "\n",
    "counter = Counter(['red', 'blue', 'blue', 'red', 'black', 'black', 'black'])\n",
    "\n",
    "print(counter['blue'])\n",
    "print(counter['red'])\n",
    "print(counter['black'])\n",
    "\n",
    "print(dict(counter))"
   ]
  },
  {
   "cell_type": "code",
   "execution_count": null,
   "metadata": {},
   "outputs": [],
   "source": [
    "import math\n",
    "\n",
    "def lcm(a, b):\n",
    "    return a * b // math.gcd(a, b)\n",
    "\n",
    "print(math.gcd(14, 21))\n",
    "print(lcm(14, 21))"
   ]
  }
 ],
 "metadata": {
  "kernelspec": {
   "display_name": "base",
   "language": "python",
   "name": "python3"
  },
  "language_info": {
   "codemirror_mode": {
    "name": "ipython",
    "version": 3
   },
   "file_extension": ".py",
   "mimetype": "text/x-python",
   "name": "python",
   "nbconvert_exporter": "python",
   "pygments_lexer": "ipython3",
   "version": "3.11.7"
  },
  "orig_nbformat": 4
 },
 "nbformat": 4,
 "nbformat_minor": 2
}
